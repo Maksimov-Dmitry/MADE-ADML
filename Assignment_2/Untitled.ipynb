{
 "cells": [
  {
   "cell_type": "code",
   "execution_count": 1,
   "id": "fc2d70c8",
   "metadata": {},
   "outputs": [],
   "source": [
    "import pandas as pd\n",
    "import pickle\n",
    "from tqdm.notebook import tqdm\n",
    "import matplotlib\n",
    "import matplotlib.pyplot as plt\n",
    "from IPython.display import clear_output\n",
    "import numpy as np\n",
    "from scipy.stats import spearmanr, kendalltau\n",
    "import math\n",
    "import os"
   ]
  },
  {
   "cell_type": "code",
   "execution_count": 2,
   "id": "e2c6c1c8",
   "metadata": {},
   "outputs": [
    {
     "name": "stdout",
     "output_type": "stream",
     "text": [
      "players.pkl      results.pkl      tournaments.pkl\r\n"
     ]
    }
   ],
   "source": [
    "%ls chgk"
   ]
  },
  {
   "cell_type": "code",
   "execution_count": 3,
   "id": "b86b84bf",
   "metadata": {},
   "outputs": [],
   "source": [
    "with open('chgk/players.pkl', 'rb') as f:\n",
    "    players = pickle.load(f)\n",
    "with open('chgk/results.pkl', 'rb') as f:\n",
    "    results = pickle.load(f)\n",
    "with open('chgk/tournaments.pkl', 'rb') as f:\n",
    "    tournaments = pickle.load(f)"
   ]
  },
  {
   "cell_type": "code",
   "execution_count": 4,
   "id": "f529f75d",
   "metadata": {},
   "outputs": [
    {
     "data": {
      "text/html": [
       "<div>\n",
       "<style scoped>\n",
       "    .dataframe tbody tr th:only-of-type {\n",
       "        vertical-align: middle;\n",
       "    }\n",
       "\n",
       "    .dataframe tbody tr th {\n",
       "        vertical-align: top;\n",
       "    }\n",
       "\n",
       "    .dataframe thead th {\n",
       "        text-align: right;\n",
       "    }\n",
       "</style>\n",
       "<table border=\"1\" class=\"dataframe\">\n",
       "  <thead>\n",
       "    <tr style=\"text-align: right;\">\n",
       "      <th></th>\n",
       "      <th>id</th>\n",
       "      <th>name</th>\n",
       "      <th>patronymic</th>\n",
       "      <th>surname</th>\n",
       "    </tr>\n",
       "  </thead>\n",
       "  <tbody>\n",
       "    <tr>\n",
       "      <th>1</th>\n",
       "      <td>1</td>\n",
       "      <td>Алексей</td>\n",
       "      <td>None</td>\n",
       "      <td>Абабилов</td>\n",
       "    </tr>\n",
       "    <tr>\n",
       "      <th>10</th>\n",
       "      <td>10</td>\n",
       "      <td>Игорь</td>\n",
       "      <td></td>\n",
       "      <td>Абалов</td>\n",
       "    </tr>\n",
       "    <tr>\n",
       "      <th>11</th>\n",
       "      <td>11</td>\n",
       "      <td>Наталья</td>\n",
       "      <td>Юрьевна</td>\n",
       "      <td>Абалымова</td>\n",
       "    </tr>\n",
       "    <tr>\n",
       "      <th>12</th>\n",
       "      <td>12</td>\n",
       "      <td>Артур</td>\n",
       "      <td>Евгеньевич</td>\n",
       "      <td>Абальян</td>\n",
       "    </tr>\n",
       "    <tr>\n",
       "      <th>13</th>\n",
       "      <td>13</td>\n",
       "      <td>Эрик</td>\n",
       "      <td>Евгеньевич</td>\n",
       "      <td>Абальян</td>\n",
       "    </tr>\n",
       "  </tbody>\n",
       "</table>\n",
       "</div>"
      ],
      "text/plain": [
       "    id     name  patronymic    surname\n",
       "1    1  Алексей        None   Абабилов\n",
       "10  10    Игорь                 Абалов\n",
       "11  11  Наталья     Юрьевна  Абалымова\n",
       "12  12    Артур  Евгеньевич    Абальян\n",
       "13  13     Эрик  Евгеньевич    Абальян"
      ]
     },
     "execution_count": 4,
     "metadata": {},
     "output_type": "execute_result"
    }
   ],
   "source": [
    "df_players = pd.DataFrame.from_dict(players, orient='index')\n",
    "df_players.head()"
   ]
  },
  {
   "cell_type": "code",
   "execution_count": 5,
   "id": "f61539e1",
   "metadata": {},
   "outputs": [
    {
     "name": "stdout",
     "output_type": "stream",
     "text": [
      "<class 'pandas.core.frame.DataFrame'>\n",
      "Int64Index: 204063 entries, 1 to 224704\n",
      "Data columns (total 4 columns):\n",
      " #   Column      Non-Null Count   Dtype \n",
      "---  ------      --------------   ----- \n",
      " 0   id          204063 non-null  int64 \n",
      " 1   name        204063 non-null  object\n",
      " 2   patronymic  204032 non-null  object\n",
      " 3   surname     204063 non-null  object\n",
      "dtypes: int64(1), object(3)\n",
      "memory usage: 7.8+ MB\n"
     ]
    }
   ],
   "source": [
    "df_players.info()"
   ]
  },
  {
   "cell_type": "code",
   "execution_count": 6,
   "id": "e16f95e3",
   "metadata": {},
   "outputs": [
    {
     "data": {
      "text/html": [
       "<div>\n",
       "<style scoped>\n",
       "    .dataframe tbody tr th:only-of-type {\n",
       "        vertical-align: middle;\n",
       "    }\n",
       "\n",
       "    .dataframe tbody tr th {\n",
       "        vertical-align: top;\n",
       "    }\n",
       "\n",
       "    .dataframe thead th {\n",
       "        text-align: right;\n",
       "    }\n",
       "</style>\n",
       "<table border=\"1\" class=\"dataframe\">\n",
       "  <thead>\n",
       "    <tr style=\"text-align: right;\">\n",
       "      <th></th>\n",
       "      <th>id</th>\n",
       "      <th>name</th>\n",
       "      <th>dateStart</th>\n",
       "      <th>dateEnd</th>\n",
       "      <th>type</th>\n",
       "      <th>season</th>\n",
       "      <th>orgcommittee</th>\n",
       "      <th>synchData</th>\n",
       "      <th>questionQty</th>\n",
       "    </tr>\n",
       "  </thead>\n",
       "  <tbody>\n",
       "    <tr>\n",
       "      <th>1</th>\n",
       "      <td>1</td>\n",
       "      <td>Чемпионат Южного Кавказа</td>\n",
       "      <td>2003-07-24 20:00:00+00:00</td>\n",
       "      <td>2003-07-27T00:00:00+04:00</td>\n",
       "      <td>{'id': 2, 'name': 'Обычный'}</td>\n",
       "      <td>/seasons/1</td>\n",
       "      <td>[]</td>\n",
       "      <td>None</td>\n",
       "      <td>None</td>\n",
       "    </tr>\n",
       "    <tr>\n",
       "      <th>2</th>\n",
       "      <td>2</td>\n",
       "      <td>Летние зори</td>\n",
       "      <td>2003-08-08 20:00:00+00:00</td>\n",
       "      <td>2003-08-09T00:00:00+04:00</td>\n",
       "      <td>{'id': 2, 'name': 'Обычный'}</td>\n",
       "      <td>/seasons/1</td>\n",
       "      <td>[]</td>\n",
       "      <td>None</td>\n",
       "      <td>None</td>\n",
       "    </tr>\n",
       "    <tr>\n",
       "      <th>3</th>\n",
       "      <td>3</td>\n",
       "      <td>Турнир в Ижевске</td>\n",
       "      <td>2003-11-21 21:00:00+00:00</td>\n",
       "      <td>2003-11-24T00:00:00+03:00</td>\n",
       "      <td>{'id': 2, 'name': 'Обычный'}</td>\n",
       "      <td>/seasons/2</td>\n",
       "      <td>[]</td>\n",
       "      <td>None</td>\n",
       "      <td>None</td>\n",
       "    </tr>\n",
       "    <tr>\n",
       "      <th>4</th>\n",
       "      <td>4</td>\n",
       "      <td>Чемпионат Украины. Переходной этап</td>\n",
       "      <td>2003-10-10 20:00:00+00:00</td>\n",
       "      <td>2003-10-12T00:00:00+04:00</td>\n",
       "      <td>{'id': 2, 'name': 'Обычный'}</td>\n",
       "      <td>/seasons/2</td>\n",
       "      <td>[]</td>\n",
       "      <td>None</td>\n",
       "      <td>None</td>\n",
       "    </tr>\n",
       "    <tr>\n",
       "      <th>5</th>\n",
       "      <td>5</td>\n",
       "      <td>Бостонское чаепитие</td>\n",
       "      <td>2003-10-09 20:00:00+00:00</td>\n",
       "      <td>2003-10-13T00:00:00+04:00</td>\n",
       "      <td>{'id': 2, 'name': 'Обычный'}</td>\n",
       "      <td>/seasons/2</td>\n",
       "      <td>[]</td>\n",
       "      <td>None</td>\n",
       "      <td>None</td>\n",
       "    </tr>\n",
       "  </tbody>\n",
       "</table>\n",
       "</div>"
      ],
      "text/plain": [
       "   id                                name                 dateStart  \\\n",
       "1   1            Чемпионат Южного Кавказа 2003-07-24 20:00:00+00:00   \n",
       "2   2                         Летние зори 2003-08-08 20:00:00+00:00   \n",
       "3   3                    Турнир в Ижевске 2003-11-21 21:00:00+00:00   \n",
       "4   4  Чемпионат Украины. Переходной этап 2003-10-10 20:00:00+00:00   \n",
       "5   5                 Бостонское чаепитие 2003-10-09 20:00:00+00:00   \n",
       "\n",
       "                     dateEnd                          type      season  \\\n",
       "1  2003-07-27T00:00:00+04:00  {'id': 2, 'name': 'Обычный'}  /seasons/1   \n",
       "2  2003-08-09T00:00:00+04:00  {'id': 2, 'name': 'Обычный'}  /seasons/1   \n",
       "3  2003-11-24T00:00:00+03:00  {'id': 2, 'name': 'Обычный'}  /seasons/2   \n",
       "4  2003-10-12T00:00:00+04:00  {'id': 2, 'name': 'Обычный'}  /seasons/2   \n",
       "5  2003-10-13T00:00:00+04:00  {'id': 2, 'name': 'Обычный'}  /seasons/2   \n",
       "\n",
       "  orgcommittee synchData questionQty  \n",
       "1           []      None        None  \n",
       "2           []      None        None  \n",
       "3           []      None        None  \n",
       "4           []      None        None  \n",
       "5           []      None        None  "
      ]
     },
     "execution_count": 6,
     "metadata": {},
     "output_type": "execute_result"
    }
   ],
   "source": [
    "df_tournaments = pd.DataFrame.from_dict(tournaments, orient='index')\n",
    "df_tournaments['dateStart'] = pd.to_datetime(df_tournaments['dateStart'], errors='coerce', utc=True)\n",
    "df_tournaments.head()"
   ]
  },
  {
   "cell_type": "code",
   "execution_count": 7,
   "id": "69859583",
   "metadata": {},
   "outputs": [
    {
     "data": {
      "text/plain": [
       "((689, 9), (416, 9))"
      ]
     },
     "execution_count": 7,
     "metadata": {},
     "output_type": "execute_result"
    }
   ],
   "source": [
    "df_tournaments_train = df_tournaments[df_tournaments.dateStart.dt.year.eq(2019)]\n",
    "df_tournaments_test = df_tournaments[df_tournaments.dateStart.dt.year.eq(2020)]\n",
    "df_tournaments_train.shape, df_tournaments_test.shape"
   ]
  },
  {
   "cell_type": "code",
   "execution_count": 8,
   "id": "4e35c89f",
   "metadata": {},
   "outputs": [
    {
     "data": {
      "text/html": [
       "<div>\n",
       "<style scoped>\n",
       "    .dataframe tbody tr th:only-of-type {\n",
       "        vertical-align: middle;\n",
       "    }\n",
       "\n",
       "    .dataframe tbody tr th {\n",
       "        vertical-align: top;\n",
       "    }\n",
       "\n",
       "    .dataframe thead th {\n",
       "        text-align: right;\n",
       "    }\n",
       "</style>\n",
       "<table border=\"1\" class=\"dataframe\">\n",
       "  <thead>\n",
       "    <tr style=\"text-align: right;\">\n",
       "      <th></th>\n",
       "      <th>id</th>\n",
       "      <th>name</th>\n",
       "      <th>dateStart</th>\n",
       "      <th>dateEnd</th>\n",
       "      <th>type</th>\n",
       "      <th>season</th>\n",
       "      <th>orgcommittee</th>\n",
       "      <th>synchData</th>\n",
       "      <th>questionQty</th>\n",
       "    </tr>\n",
       "  </thead>\n",
       "  <tbody>\n",
       "    <tr>\n",
       "      <th>4772</th>\n",
       "      <td>4772</td>\n",
       "      <td>Синхрон северных стран. Зимний выпуск</td>\n",
       "      <td>2019-01-05 16:00:00+00:00</td>\n",
       "      <td>2019-01-09T19:00:00+03:00</td>\n",
       "      <td>{'id': 3, 'name': 'Синхрон'}</td>\n",
       "      <td>/seasons/52</td>\n",
       "      <td>[{'id': 28379, 'name': 'Константин', 'patronym...</td>\n",
       "      <td>{'dateRequestsAllowedTo': '2019-01-09T23:59:59...</td>\n",
       "      <td>{'1': 12, '2': 12, '3': 12}</td>\n",
       "    </tr>\n",
       "    <tr>\n",
       "      <th>4973</th>\n",
       "      <td>4973</td>\n",
       "      <td>Балтийский Берег. 3 игра</td>\n",
       "      <td>2019-01-25 16:05:00+00:00</td>\n",
       "      <td>2019-01-29T19:00:00+03:00</td>\n",
       "      <td>{'id': 3, 'name': 'Синхрон'}</td>\n",
       "      <td>/seasons/52</td>\n",
       "      <td>[{'id': 23030, 'name': 'Марина', 'patronymic':...</td>\n",
       "      <td>{'dateRequestsAllowedTo': '2019-01-28T23:59:59...</td>\n",
       "      <td>{'1': 12, '2': 12, '3': 12}</td>\n",
       "    </tr>\n",
       "    <tr>\n",
       "      <th>4974</th>\n",
       "      <td>4974</td>\n",
       "      <td>Балтийский Берег. 4 игра</td>\n",
       "      <td>2019-03-01 16:05:00+00:00</td>\n",
       "      <td>2019-03-05T19:00:00+03:00</td>\n",
       "      <td>{'id': 3, 'name': 'Синхрон'}</td>\n",
       "      <td>/seasons/52</td>\n",
       "      <td>[{'id': 23030, 'name': 'Марина', 'patronymic':...</td>\n",
       "      <td>{'dateRequestsAllowedTo': '2019-03-04T23:59:59...</td>\n",
       "      <td>{'1': 12, '2': 12, '3': 12}</td>\n",
       "    </tr>\n",
       "    <tr>\n",
       "      <th>4975</th>\n",
       "      <td>4975</td>\n",
       "      <td>Балтийский Берег. 5 игра</td>\n",
       "      <td>2019-04-05 16:05:00+00:00</td>\n",
       "      <td>2019-04-09T19:00:00+03:00</td>\n",
       "      <td>{'id': 3, 'name': 'Синхрон'}</td>\n",
       "      <td>/seasons/52</td>\n",
       "      <td>[{'id': 23030, 'name': 'Марина', 'patronymic':...</td>\n",
       "      <td>{'dateRequestsAllowedTo': '2019-04-08T23:59:59...</td>\n",
       "      <td>{'1': 12, '2': 12, '3': 12}</td>\n",
       "    </tr>\n",
       "    <tr>\n",
       "      <th>4986</th>\n",
       "      <td>4986</td>\n",
       "      <td>ОВСЧ. 6 этап</td>\n",
       "      <td>2019-02-15 17:00:00+00:00</td>\n",
       "      <td>2019-02-19T20:00:00+03:00</td>\n",
       "      <td>{'id': 3, 'name': 'Синхрон'}</td>\n",
       "      <td>/seasons/52</td>\n",
       "      <td>[{'id': 59140, 'name': 'Борис', 'patronymic': ...</td>\n",
       "      <td>{'dateRequestsAllowedTo': '2019-02-19T23:59:59...</td>\n",
       "      <td>{'1': 12, '2': 12, '3': 12}</td>\n",
       "    </tr>\n",
       "  </tbody>\n",
       "</table>\n",
       "</div>"
      ],
      "text/plain": [
       "        id                                   name                 dateStart  \\\n",
       "4772  4772  Синхрон северных стран. Зимний выпуск 2019-01-05 16:00:00+00:00   \n",
       "4973  4973               Балтийский Берег. 3 игра 2019-01-25 16:05:00+00:00   \n",
       "4974  4974               Балтийский Берег. 4 игра 2019-03-01 16:05:00+00:00   \n",
       "4975  4975               Балтийский Берег. 5 игра 2019-04-05 16:05:00+00:00   \n",
       "4986  4986                           ОВСЧ. 6 этап 2019-02-15 17:00:00+00:00   \n",
       "\n",
       "                        dateEnd                          type       season  \\\n",
       "4772  2019-01-09T19:00:00+03:00  {'id': 3, 'name': 'Синхрон'}  /seasons/52   \n",
       "4973  2019-01-29T19:00:00+03:00  {'id': 3, 'name': 'Синхрон'}  /seasons/52   \n",
       "4974  2019-03-05T19:00:00+03:00  {'id': 3, 'name': 'Синхрон'}  /seasons/52   \n",
       "4975  2019-04-09T19:00:00+03:00  {'id': 3, 'name': 'Синхрон'}  /seasons/52   \n",
       "4986  2019-02-19T20:00:00+03:00  {'id': 3, 'name': 'Синхрон'}  /seasons/52   \n",
       "\n",
       "                                           orgcommittee  \\\n",
       "4772  [{'id': 28379, 'name': 'Константин', 'patronym...   \n",
       "4973  [{'id': 23030, 'name': 'Марина', 'patronymic':...   \n",
       "4974  [{'id': 23030, 'name': 'Марина', 'patronymic':...   \n",
       "4975  [{'id': 23030, 'name': 'Марина', 'patronymic':...   \n",
       "4986  [{'id': 59140, 'name': 'Борис', 'patronymic': ...   \n",
       "\n",
       "                                              synchData  \\\n",
       "4772  {'dateRequestsAllowedTo': '2019-01-09T23:59:59...   \n",
       "4973  {'dateRequestsAllowedTo': '2019-01-28T23:59:59...   \n",
       "4974  {'dateRequestsAllowedTo': '2019-03-04T23:59:59...   \n",
       "4975  {'dateRequestsAllowedTo': '2019-04-08T23:59:59...   \n",
       "4986  {'dateRequestsAllowedTo': '2019-02-19T23:59:59...   \n",
       "\n",
       "                      questionQty  \n",
       "4772  {'1': 12, '2': 12, '3': 12}  \n",
       "4973  {'1': 12, '2': 12, '3': 12}  \n",
       "4974  {'1': 12, '2': 12, '3': 12}  \n",
       "4975  {'1': 12, '2': 12, '3': 12}  \n",
       "4986  {'1': 12, '2': 12, '3': 12}  "
      ]
     },
     "execution_count": 8,
     "metadata": {},
     "output_type": "execute_result"
    }
   ],
   "source": [
    "df_tournaments_train.head()"
   ]
  },
  {
   "cell_type": "code",
   "execution_count": 9,
   "id": "d0f41ec6",
   "metadata": {},
   "outputs": [],
   "source": [
    "tournaments_train_ids = set(df_tournaments_train.id)"
   ]
  },
  {
   "cell_type": "code",
   "execution_count": 10,
   "id": "b0c4123a",
   "metadata": {},
   "outputs": [
    {
     "data": {
      "application/vnd.jupyter.widget-view+json": {
       "model_id": "6f3083ffef834b6b890f4d98db596a2e",
       "version_major": 2,
       "version_minor": 0
      },
      "text/plain": [
       "  0%|          | 0/5528 [00:00<?, ?it/s]"
      ]
     },
     "metadata": {},
     "output_type": "display_data"
    }
   ],
   "source": [
    "results_df_train = pd.DataFrame()\n",
    "for index in tqdm(results):\n",
    "    if index in tournaments_train_ids:\n",
    "        temp_df = pd.DataFrame(results[index])\n",
    "        temp_df['id_tournament'] = index\n",
    "        results_df_train = pd.concat([results_df_train, temp_df])"
   ]
  },
  {
   "cell_type": "code",
   "execution_count": 11,
   "id": "5ff60125",
   "metadata": {},
   "outputs": [
    {
     "data": {
      "text/html": [
       "<div>\n",
       "<style scoped>\n",
       "    .dataframe tbody tr th:only-of-type {\n",
       "        vertical-align: middle;\n",
       "    }\n",
       "\n",
       "    .dataframe tbody tr th {\n",
       "        vertical-align: top;\n",
       "    }\n",
       "\n",
       "    .dataframe thead th {\n",
       "        text-align: right;\n",
       "    }\n",
       "</style>\n",
       "<table border=\"1\" class=\"dataframe\">\n",
       "  <thead>\n",
       "    <tr style=\"text-align: right;\">\n",
       "      <th></th>\n",
       "      <th>team</th>\n",
       "      <th>mask</th>\n",
       "      <th>current</th>\n",
       "      <th>questionsTotal</th>\n",
       "      <th>synchRequest</th>\n",
       "      <th>position</th>\n",
       "      <th>controversials</th>\n",
       "      <th>flags</th>\n",
       "      <th>teamMembers</th>\n",
       "      <th>id_tournament</th>\n",
       "    </tr>\n",
       "  </thead>\n",
       "  <tbody>\n",
       "    <tr>\n",
       "      <th>0</th>\n",
       "      <td>{'id': 45556, 'name': 'Рабочее название', 'tow...</td>\n",
       "      <td>111111111011111110111111111100010010</td>\n",
       "      <td>{'name': 'Рабочее название', 'town': {'id': 28...</td>\n",
       "      <td>28.0</td>\n",
       "      <td>{'id': 56392, 'venue': {'id': 3030, 'name': 'С...</td>\n",
       "      <td>1.0</td>\n",
       "      <td>[{'id': 91169, 'questionNumber': 15, 'answer':...</td>\n",
       "      <td>[]</td>\n",
       "      <td>[{'flag': 'Б', 'usedRating': 13507, 'rating': ...</td>\n",
       "      <td>4772</td>\n",
       "    </tr>\n",
       "    <tr>\n",
       "      <th>1</th>\n",
       "      <td>{'id': 1030, 'name': 'Сборная Бутана', 'town':...</td>\n",
       "      <td>111111111011110100101111011001011010</td>\n",
       "      <td>{'name': 'Сборная Бутана', 'town': {'id': 346,...</td>\n",
       "      <td>25.0</td>\n",
       "      <td>{'id': 56690, 'venue': {'id': 3151, 'name': 'У...</td>\n",
       "      <td>5.5</td>\n",
       "      <td>[]</td>\n",
       "      <td>[]</td>\n",
       "      <td>[{'flag': None, 'usedRating': 13058, 'rating':...</td>\n",
       "      <td>4772</td>\n",
       "    </tr>\n",
       "    <tr>\n",
       "      <th>2</th>\n",
       "      <td>{'id': 4252, 'name': 'Ять', 'town': {'id': 197...</td>\n",
       "      <td>111111111011110101101111001011110000</td>\n",
       "      <td>{'name': 'Ять', 'town': {'id': 197, 'name': 'М...</td>\n",
       "      <td>25.0</td>\n",
       "      <td>{'id': 56814, 'venue': {'id': 3112, 'name': 'М...</td>\n",
       "      <td>5.5</td>\n",
       "      <td>[{'id': 91164, 'questionNumber': 33, 'answer':...</td>\n",
       "      <td>[]</td>\n",
       "      <td>[{'flag': 'К', 'usedRating': 9584, 'rating': 9...</td>\n",
       "      <td>4772</td>\n",
       "    </tr>\n",
       "    <tr>\n",
       "      <th>3</th>\n",
       "      <td>{'id': 5444, 'name': 'Эйфью', 'town': {'id': 1...</td>\n",
       "      <td>101111101111111110001101011001111010</td>\n",
       "      <td>{'name': 'Эйфью', 'town': {'id': 197, 'name': ...</td>\n",
       "      <td>25.0</td>\n",
       "      <td>{'id': 56814, 'venue': {'id': 3112, 'name': 'М...</td>\n",
       "      <td>5.5</td>\n",
       "      <td>[]</td>\n",
       "      <td>[]</td>\n",
       "      <td>[{'flag': 'Л', 'usedRating': 8592, 'rating': 8...</td>\n",
       "      <td>4772</td>\n",
       "    </tr>\n",
       "    <tr>\n",
       "      <th>4</th>\n",
       "      <td>{'id': 40931, 'name': 'Здоровенный Я', 'town':...</td>\n",
       "      <td>111111101011111101000111001001111110</td>\n",
       "      <td>{'name': 'Здоровенный Я', 'town': {'id': 201, ...</td>\n",
       "      <td>25.0</td>\n",
       "      <td>{'id': 55460, 'venue': {'id': 3117, 'name': 'М...</td>\n",
       "      <td>5.5</td>\n",
       "      <td>[]</td>\n",
       "      <td>[]</td>\n",
       "      <td>[{'flag': 'Л', 'usedRating': 12069, 'rating': ...</td>\n",
       "      <td>4772</td>\n",
       "    </tr>\n",
       "  </tbody>\n",
       "</table>\n",
       "</div>"
      ],
      "text/plain": [
       "                                                team  \\\n",
       "0  {'id': 45556, 'name': 'Рабочее название', 'tow...   \n",
       "1  {'id': 1030, 'name': 'Сборная Бутана', 'town':...   \n",
       "2  {'id': 4252, 'name': 'Ять', 'town': {'id': 197...   \n",
       "3  {'id': 5444, 'name': 'Эйфью', 'town': {'id': 1...   \n",
       "4  {'id': 40931, 'name': 'Здоровенный Я', 'town':...   \n",
       "\n",
       "                                   mask  \\\n",
       "0  111111111011111110111111111100010010   \n",
       "1  111111111011110100101111011001011010   \n",
       "2  111111111011110101101111001011110000   \n",
       "3  101111101111111110001101011001111010   \n",
       "4  111111101011111101000111001001111110   \n",
       "\n",
       "                                             current  questionsTotal  \\\n",
       "0  {'name': 'Рабочее название', 'town': {'id': 28...            28.0   \n",
       "1  {'name': 'Сборная Бутана', 'town': {'id': 346,...            25.0   \n",
       "2  {'name': 'Ять', 'town': {'id': 197, 'name': 'М...            25.0   \n",
       "3  {'name': 'Эйфью', 'town': {'id': 197, 'name': ...            25.0   \n",
       "4  {'name': 'Здоровенный Я', 'town': {'id': 201, ...            25.0   \n",
       "\n",
       "                                        synchRequest  position  \\\n",
       "0  {'id': 56392, 'venue': {'id': 3030, 'name': 'С...       1.0   \n",
       "1  {'id': 56690, 'venue': {'id': 3151, 'name': 'У...       5.5   \n",
       "2  {'id': 56814, 'venue': {'id': 3112, 'name': 'М...       5.5   \n",
       "3  {'id': 56814, 'venue': {'id': 3112, 'name': 'М...       5.5   \n",
       "4  {'id': 55460, 'venue': {'id': 3117, 'name': 'М...       5.5   \n",
       "\n",
       "                                      controversials flags  \\\n",
       "0  [{'id': 91169, 'questionNumber': 15, 'answer':...    []   \n",
       "1                                                 []    []   \n",
       "2  [{'id': 91164, 'questionNumber': 33, 'answer':...    []   \n",
       "3                                                 []    []   \n",
       "4                                                 []    []   \n",
       "\n",
       "                                         teamMembers  id_tournament  \n",
       "0  [{'flag': 'Б', 'usedRating': 13507, 'rating': ...           4772  \n",
       "1  [{'flag': None, 'usedRating': 13058, 'rating':...           4772  \n",
       "2  [{'flag': 'К', 'usedRating': 9584, 'rating': 9...           4772  \n",
       "3  [{'flag': 'Л', 'usedRating': 8592, 'rating': 8...           4772  \n",
       "4  [{'flag': 'Л', 'usedRating': 12069, 'rating': ...           4772  "
      ]
     },
     "execution_count": 11,
     "metadata": {},
     "output_type": "execute_result"
    }
   ],
   "source": [
    "results_df_train.head()"
   ]
  },
  {
   "cell_type": "markdown",
   "id": "acd017bb",
   "metadata": {},
   "source": [
    "# Baseline"
   ]
  },
  {
   "cell_type": "markdown",
   "id": "5b53f130",
   "metadata": {},
   "source": [
    "**Идея**: Правильно ли игрок ответит на вопрос зависит от его рейтинга и сложности вопроса. Также допустим, что если команда ответила на вопрос то все игроки ответили на вопрос.\n",
    "\n",
    "**Постановка**: Таким образом пусть $P(x_{ij})=\\sigma(r_i - c_j)$, где $r_i$ - рейтинг $i$-го игрока, $c_j$ - сложность $j$-го вопроса"
   ]
  },
  {
   "cell_type": "code",
   "execution_count": 76,
   "id": "67b09e22",
   "metadata": {},
   "outputs": [
    {
     "data": {
      "application/vnd.jupyter.widget-view+json": {
       "model_id": "155c306cd0f848d68ea5cb97bfaf0da9",
       "version_major": 2,
       "version_minor": 0
      },
      "text/plain": [
       "  0%|          | 0/689 [00:00<?, ?it/s]"
      ]
     },
     "metadata": {},
     "output_type": "display_data"
    }
   ],
   "source": [
    "total_num_questions = 0\n",
    "id_to_players = set()\n",
    "members_specific = []\n",
    "questions = []\n",
    "question_to_tournament = {}\n",
    "answers = []\n",
    "members_team = []\n",
    "for tournament in tqdm(tournaments_train_ids):\n",
    "    max_num_questions = 0\n",
    "    for team in results[tournament]:\n",
    "        if team.get('mask', None) is not None:\n",
    "            bad_answers = 0\n",
    "            for answer_id in range(len(team['mask'])):\n",
    "                question_to_tournament[total_num_questions + answer_id] = tournament\n",
    "                if team['mask'][answer_id] in ('0', '1'):\n",
    "                    members = [member['player']['id'] for member in team['teamMembers']]\n",
    "                    for member in members:\n",
    "                        id_to_players.add(member)\n",
    "                        members_specific.append(member)\n",
    "                        questions.append(total_num_questions + answer_id)\n",
    "                        answers.append(int(team['mask'][answer_id]))\n",
    "                        members_team.append(members)\n",
    "                else:\n",
    "                    bad_answers += 1\n",
    "            max_num_questions = max(max_num_questions, len(team['mask']) - bad_answers)\n",
    "    total_num_questions += max_num_questions\n",
    "id_to_players = list(id_to_players)"
   ]
  },
  {
   "cell_type": "code",
   "execution_count": 78,
   "id": "878c6ed3",
   "metadata": {},
   "outputs": [
    {
     "name": "stdout",
     "output_type": "stream",
     "text": [
      "number of questions: 33375\n",
      "players: 59271\n",
      "dataset: 21008480\n"
     ]
    }
   ],
   "source": [
    "print(f'number of questions: {total_num_questions}')\n",
    "print(f'players: {len(id_to_players)}')\n",
    "print(f'dataset: {len(questions)}')"
   ]
  },
  {
   "cell_type": "code",
   "execution_count": 14,
   "id": "10a31c0d",
   "metadata": {},
   "outputs": [],
   "source": [
    "player_to_id = {}\n",
    "for i, player in enumerate(id_to_players):\n",
    "    player_to_id[player] = i"
   ]
  },
  {
   "cell_type": "code",
   "execution_count": 34,
   "id": "6ce56d38",
   "metadata": {},
   "outputs": [
    {
     "data": {
      "text/plain": [
       "<torch._C.Generator at 0x7fb86b640e90>"
      ]
     },
     "execution_count": 34,
     "metadata": {},
     "output_type": "execute_result"
    }
   ],
   "source": [
    "import torch\n",
    "import torch.nn as nn\n",
    "from torchmetrics.classification import BinaryAccuracy\n",
    "torch.manual_seed(0)"
   ]
  },
  {
   "cell_type": "code",
   "execution_count": 35,
   "id": "a9987cff",
   "metadata": {},
   "outputs": [],
   "source": [
    "class Baseline(nn.Module):\n",
    "    def __init__(self, num_players, num_questions):\n",
    "        super().__init__()\n",
    "        \n",
    "        self.players_emb = nn.Embedding(num_players, 1)\n",
    "        self.questions_emb = nn.Embedding(num_questions, 1)\n",
    "\n",
    "    def forward(self, players, questions):\n",
    "        players_emb = self.players_emb(players)\n",
    "        questions_emb = self.questions_emb(questions)\n",
    "        return torch.sigmoid(players_emb - questions_emb).squeeze(1)"
   ]
  },
  {
   "cell_type": "code",
   "execution_count": 36,
   "id": "d327ae0b",
   "metadata": {},
   "outputs": [],
   "source": [
    "device = torch.device(\"cpu\")\n",
    "criterion = nn.BCELoss()\n",
    "accuracy = BinaryAccuracy()\n",
    "members_specific_tensor = torch.LongTensor([player_to_id[member] for member in members_specific]).to(device)\n",
    "questions_tensor = torch.LongTensor(questions).to(device)\n",
    "answers_tensor = torch.tensor(answers, dtype=torch.float).to(device)"
   ]
  },
  {
   "cell_type": "code",
   "execution_count": 37,
   "id": "f0bfc00d",
   "metadata": {},
   "outputs": [],
   "source": [
    "baseline = Baseline(len(player_to_id), total_num_questions).to(device)"
   ]
  },
  {
   "cell_type": "code",
   "execution_count": 38,
   "id": "c5e59517",
   "metadata": {},
   "outputs": [],
   "source": [
    "def train(model, answers_tensor):\n",
    "    optimizer = torch.optim.LBFGS(model.parameters(), lr=1, history_size=100, max_iter=20, line_search_fn='strong_wolfe')\n",
    "    def closure():\n",
    "        optimizer.zero_grad()\n",
    "        output = model(members_specific_tensor, questions_tensor)\n",
    "        loss = criterion(output, answers_tensor)\n",
    "\n",
    "        loss.backward()\n",
    "        return loss\n",
    "\n",
    "    optimizer.step(closure)"
   ]
  },
  {
   "cell_type": "code",
   "execution_count": 39,
   "id": "e1fe7906",
   "metadata": {},
   "outputs": [],
   "source": [
    "train(baseline, answers_tensor)"
   ]
  },
  {
   "cell_type": "code",
   "execution_count": 40,
   "id": "1d47d8e8",
   "metadata": {},
   "outputs": [
    {
     "name": "stdout",
     "output_type": "stream",
     "text": [
      "tensor(0.7554)\n"
     ]
    }
   ],
   "source": [
    "print(accuracy(baseline(members_specific_tensor, questions_tensor), answers_tensor))"
   ]
  },
  {
   "cell_type": "markdown",
   "id": "bf18c6df",
   "metadata": {},
   "source": [
    "Теперь, чтобы предсказать позиции комманд в будущих турнирах, воспользуемся следующей формулой: $\\sum_{i\\in t} \\exp(r_i)$.Мы возводим рейтинг в экспоненту, т.к. значимость рейтинга явно нелинейная.Изначально хотелось брать среднее, а не сумму, т.к. размер комманд разные, из-за того, что известны не все участники, но среднее показывает результат хуже, что странно.\n",
    "**Хотелось бы заметить, что от выбора формулы ранжирования, зависит надобность использования алгоритма. Так, если брать просто сумму рейтнгов, что дает тоже хороший результат, и применить EM алгоритм, то результат ухудшится, по сравнению с baseline. Так, даже используя формулу с экспонентой, EM алгоритм зачастую не улучшает результат(зависит от обученности baseline)**"
   ]
  },
  {
   "cell_type": "code",
   "execution_count": 41,
   "id": "2b4e71f8",
   "metadata": {},
   "outputs": [],
   "source": [
    "tournaments_test_ids = set(df_tournaments_test.id)"
   ]
  },
  {
   "cell_type": "code",
   "execution_count": 42,
   "id": "287de2cb",
   "metadata": {},
   "outputs": [],
   "source": [
    "players_ratings = baseline.players_emb.weight.detach().cpu().numpy().flatten()"
   ]
  },
  {
   "cell_type": "markdown",
   "id": "bbc2584a",
   "metadata": {},
   "source": [
    "Давайте посмотрим на top10 игроков"
   ]
  },
  {
   "cell_type": "code",
   "execution_count": 43,
   "id": "f5b2e88d",
   "metadata": {},
   "outputs": [],
   "source": [
    "n = 10"
   ]
  },
  {
   "cell_type": "code",
   "execution_count": 44,
   "id": "4a3162d8",
   "metadata": {},
   "outputs": [],
   "source": [
    "df_players['rating'] = df_players['id'].apply(lambda x: players_ratings[player_to_id[x]] if x in player_to_id else float('-inf'))"
   ]
  },
  {
   "cell_type": "code",
   "execution_count": 45,
   "id": "9a98e3dc",
   "metadata": {},
   "outputs": [
    {
     "data": {
      "text/html": [
       "<div>\n",
       "<style scoped>\n",
       "    .dataframe tbody tr th:only-of-type {\n",
       "        vertical-align: middle;\n",
       "    }\n",
       "\n",
       "    .dataframe tbody tr th {\n",
       "        vertical-align: top;\n",
       "    }\n",
       "\n",
       "    .dataframe thead th {\n",
       "        text-align: right;\n",
       "    }\n",
       "</style>\n",
       "<table border=\"1\" class=\"dataframe\">\n",
       "  <thead>\n",
       "    <tr style=\"text-align: right;\">\n",
       "      <th></th>\n",
       "      <th>id</th>\n",
       "      <th>name</th>\n",
       "      <th>patronymic</th>\n",
       "      <th>surname</th>\n",
       "      <th>rating</th>\n",
       "    </tr>\n",
       "  </thead>\n",
       "  <tbody>\n",
       "    <tr>\n",
       "      <th>27403</th>\n",
       "      <td>27403</td>\n",
       "      <td>Максим</td>\n",
       "      <td>Михайлович</td>\n",
       "      <td>Руссо</td>\n",
       "      <td>3.250122</td>\n",
       "    </tr>\n",
       "    <tr>\n",
       "      <th>222188</th>\n",
       "      <td>222188</td>\n",
       "      <td>Арина</td>\n",
       "      <td></td>\n",
       "      <td>Гринко</td>\n",
       "      <td>3.028952</td>\n",
       "    </tr>\n",
       "    <tr>\n",
       "      <th>4270</th>\n",
       "      <td>4270</td>\n",
       "      <td>Александра</td>\n",
       "      <td>Владимировна</td>\n",
       "      <td>Брутер</td>\n",
       "      <td>3.004490</td>\n",
       "    </tr>\n",
       "    <tr>\n",
       "      <th>28751</th>\n",
       "      <td>28751</td>\n",
       "      <td>Иван</td>\n",
       "      <td>Николаевич</td>\n",
       "      <td>Семушин</td>\n",
       "      <td>2.979393</td>\n",
       "    </tr>\n",
       "    <tr>\n",
       "      <th>20691</th>\n",
       "      <td>20691</td>\n",
       "      <td>Станислав</td>\n",
       "      <td>Григорьевич</td>\n",
       "      <td>Мереминский</td>\n",
       "      <td>2.952621</td>\n",
       "    </tr>\n",
       "    <tr>\n",
       "      <th>30152</th>\n",
       "      <td>30152</td>\n",
       "      <td>Артём</td>\n",
       "      <td>Сергеевич</td>\n",
       "      <td>Сорожкин</td>\n",
       "      <td>2.864075</td>\n",
       "    </tr>\n",
       "    <tr>\n",
       "      <th>22935</th>\n",
       "      <td>22935</td>\n",
       "      <td>Илья</td>\n",
       "      <td>Сергеевич</td>\n",
       "      <td>Новиков</td>\n",
       "      <td>2.856054</td>\n",
       "    </tr>\n",
       "    <tr>\n",
       "      <th>18036</th>\n",
       "      <td>18036</td>\n",
       "      <td>Михаил</td>\n",
       "      <td>Ильич</td>\n",
       "      <td>Левандовский</td>\n",
       "      <td>2.846545</td>\n",
       "    </tr>\n",
       "    <tr>\n",
       "      <th>30270</th>\n",
       "      <td>30270</td>\n",
       "      <td>Сергей</td>\n",
       "      <td>Леонидович</td>\n",
       "      <td>Спешков</td>\n",
       "      <td>2.797549</td>\n",
       "    </tr>\n",
       "    <tr>\n",
       "      <th>1585</th>\n",
       "      <td>1585</td>\n",
       "      <td>Юлия</td>\n",
       "      <td>Сергеевна</td>\n",
       "      <td>Архангельская</td>\n",
       "      <td>2.768506</td>\n",
       "    </tr>\n",
       "  </tbody>\n",
       "</table>\n",
       "</div>"
      ],
      "text/plain": [
       "            id        name    patronymic        surname    rating\n",
       "27403    27403      Максим    Михайлович          Руссо  3.250122\n",
       "222188  222188       Арина                       Гринко  3.028952\n",
       "4270      4270  Александра  Владимировна         Брутер  3.004490\n",
       "28751    28751        Иван    Николаевич        Семушин  2.979393\n",
       "20691    20691   Станислав   Григорьевич    Мереминский  2.952621\n",
       "30152    30152       Артём     Сергеевич       Сорожкин  2.864075\n",
       "22935    22935        Илья     Сергеевич        Новиков  2.856054\n",
       "18036    18036      Михаил         Ильич   Левандовский  2.846545\n",
       "30270    30270      Сергей    Леонидович        Спешков  2.797549\n",
       "1585      1585        Юлия     Сергеевна  Архангельская  2.768506"
      ]
     },
     "execution_count": 45,
     "metadata": {},
     "output_type": "execute_result"
    }
   ],
   "source": [
    "df_players.sort_values(by='rating', ascending=False).head(n)"
   ]
  },
  {
   "cell_type": "code",
   "execution_count": 46,
   "id": "dc250036",
   "metadata": {},
   "outputs": [],
   "source": [
    "def calculate_metrics(players_ratings):\n",
    "    spearmanr_stat = 0\n",
    "    kendalltau_stat = 0\n",
    "    spearman_res_count = 0\n",
    "    kendalltau_res_count = 0\n",
    "    for tournament in tqdm(tournaments_test_ids):\n",
    "        teams_strengths = []\n",
    "        teams_real_positions = []\n",
    "        for team in results[tournament]:\n",
    "            team_strength = []\n",
    "            if team.get('position', None) is not None:\n",
    "                teams_real_positions.append(team['position'])\n",
    "                for member in team['teamMembers']:\n",
    "                    if member['player']['id'] in player_to_id:\n",
    "                        team_strength.append(players_ratings[player_to_id[member['player']['id']]])\n",
    "                if len(team_strength) > 0:\n",
    "                    teams_strengths.append(np.sum(np.exp(team_strength)))\n",
    "                else:\n",
    "                    teams_strengths.append(float('-inf'))\n",
    "        teams_predicted_positions = np.argsort(teams_strengths)[::-1] + 1\n",
    "\n",
    "        spearman_res = spearmanr(teams_predicted_positions, teams_real_positions).correlation\n",
    "        if not math.isnan(spearman_res):\n",
    "            spearmanr_stat += spearman_res\n",
    "            spearman_res_count += 1\n",
    "        kendalltau_res = kendalltau(teams_predicted_positions, teams_real_positions).correlation\n",
    "        if not math.isnan(kendalltau_res):\n",
    "            kendalltau_stat += kendalltau_res\n",
    "            kendalltau_res_count += 1\n",
    "\n",
    "    spearmanr_stat /= spearman_res_count\n",
    "    kendalltau_stat /= kendalltau_res_count\n",
    "    return spearmanr_stat, kendalltau_stat"
   ]
  },
  {
   "cell_type": "code",
   "execution_count": 47,
   "id": "89863c9a",
   "metadata": {},
   "outputs": [
    {
     "data": {
      "application/vnd.jupyter.widget-view+json": {
       "model_id": "9c8e98d721594855b176d2419923fa7e",
       "version_major": 2,
       "version_minor": 0
      },
      "text/plain": [
       "  0%|          | 0/416 [00:00<?, ?it/s]"
      ]
     },
     "metadata": {},
     "output_type": "display_data"
    },
    {
     "name": "stderr",
     "output_type": "stream",
     "text": [
      "/Users/dmitriimaksimov/opt/anaconda3/lib/python3.9/site-packages/scipy/stats/stats.py:4484: SpearmanRConstantInputWarning: An input array is constant; the correlation coefficient is not defined.\n",
      "  warnings.warn(SpearmanRConstantInputWarning())\n"
     ]
    }
   ],
   "source": [
    "spearmanr_stat, kendalltau_stat = calculate_metrics(players_ratings)"
   ]
  },
  {
   "cell_type": "code",
   "execution_count": 48,
   "id": "9a8b4228",
   "metadata": {},
   "outputs": [
    {
     "name": "stdout",
     "output_type": "stream",
     "text": [
      "spearmanr on test: 0.7703668123184415\n",
      "kendalltau on test: 0.6138879535370674\n"
     ]
    }
   ],
   "source": [
    "print(f'spearmanr on test: {spearmanr_stat}')\n",
    "print(f'kendalltau on test: {kendalltau_stat}')"
   ]
  },
  {
   "cell_type": "markdown",
   "id": "6c42d900",
   "metadata": {},
   "source": [
    "В принципе неплохо, но попробуем лучше"
   ]
  },
  {
   "cell_type": "markdown",
   "id": "55be0879",
   "metadata": {},
   "source": [
    "# EM algorithm"
   ]
  },
  {
   "cell_type": "markdown",
   "id": "2875e446",
   "metadata": {},
   "source": [
    "**Идея**: Пусть теперь команда правильно ответила на вопрос, если хотя бы один участник правильно ответил на вопрос\n",
    "\n",
    "**Постановка**: Таким образом пусть $P(z_{ij})=\\sigma(r_i - c_j)$, где $r_i$ - рейтинг $i$-го игрока, $c_j$ - сложность $j$-го вопроса. Т.к. $z_{ij}$, влияет на $x_{tj}$, где $x_{tj}$ - правильно ли команда $t$ ответила на вопрос $j$:\n",
    "    $$x_{tj} =   \\left\\{\n",
    "\\begin{array}{ll}\n",
    "      0 & z_{ij} = 0, \\forall i \\in t \\\\\n",
    "      1 & z_{ij} = 1, \\exists i \\in t \\\\\n",
    "\\end{array} \n",
    "\\right.  $$\n",
    "Таким образом мы хотим $\\underset{r, c} {\\mathrm{argmax}} ~P(x, z|r, c)$. Эту задачу можно решить с помощью EM алгоритма"
   ]
  },
  {
   "cell_type": "markdown",
   "id": "d6b7a70e",
   "metadata": {},
   "source": [
    "**E step**\n",
    "$$ \\mathop{\\mathbb{E}}(z_{ij})=   \\left\\{\n",
    "\\begin{array}{ll}\n",
    "      0 & x_{tj}=0\\\\\n",
    "      p(z_{ij}=1) & x_{tj}=1\\\\\n",
    "\\end{array} \n",
    "\\right.  $$\n",
    "\n",
    "$p(z_{ij}=1) = \\dfrac{\\sigma(r_i - c_j)}{1 - \\prod_{k\\in t} 1 - \\sigma(r_k - c_j)}$\n",
    "\n",
    "**M step**:\n",
    "$\\sigma(r_i - c_j) = \\mathop{\\mathbb{E}}(z_{ij})$"
   ]
  },
  {
   "cell_type": "code",
   "execution_count": 49,
   "id": "32ba5d7e",
   "metadata": {},
   "outputs": [],
   "source": [
    "def e_step(model):\n",
    "    with torch.no_grad():\n",
    "        z = model(members_specific_tensor, questions_tensor).cpu().numpy()\n",
    "    exp_z = []\n",
    "\n",
    "    i = 0\n",
    "    while i < len(z):\n",
    "        members = members_team[i]\n",
    "        if answers[i] == 0:\n",
    "            exp_z.extend([0] * len(members))\n",
    "        else:\n",
    "            if len(members) == 1:\n",
    "                exp_z.append(1)\n",
    "            else:\n",
    "                z_prod = np.prod(1 - z[i:i+len(members)])\n",
    "                exp_z.extend(z[i:i+len(members)] / (1 - z_prod))\n",
    "        i += len(members)\n",
    "    assert i == len(z)\n",
    "    return exp_z\n",
    "\n",
    "\n",
    "def m_step(model, exp_z):\n",
    "    train(model, torch.tensor(exp_z, dtype=torch.float).to(device))"
   ]
  },
  {
   "cell_type": "code",
   "execution_count": 50,
   "id": "6786d292",
   "metadata": {},
   "outputs": [
    {
     "data": {
      "image/png": "[encoded data removed]",
      "text/plain": [
       "<Figure size 864x504 with 1 Axes>"
      ]
     },
     "metadata": {
      "needs_background": "light"
     },
     "output_type": "display_data"
    }
   ],
   "source": [
    "steps = 7\n",
    "spearmanr_stats = [spearmanr_stat]\n",
    "kendalltau_stats = [kendalltau_stat]\n",
    "for step in range(steps):\n",
    "    print(f'step: {step}')\n",
    "    print('e_step')\n",
    "    exp_z = e_step(baseline)\n",
    "    print('m_step')\n",
    "    m_step(baseline, exp_z)\n",
    "    \n",
    "    spearmanr_stat_temp, kendalltau_stat_temp = calculate_metrics(baseline.players_emb.weight.detach().cpu().numpy().flatten())\n",
    "    spearmanr_stats.append(spearmanr_stat_temp)\n",
    "    kendalltau_stats.append(kendalltau_stat_temp)\n",
    "    \n",
    "    clear_output(True)\n",
    "    plt.figure(figsize=(12, 7))\n",
    "    plt.plot(spearmanr_stats, label='Spearmanr')\n",
    "    plt.plot(kendalltau_stats, label='Kendalltau')\n",
    "    \n",
    "    plt.legend()\n",
    "    plt.show()"
   ]
  },
  {
   "cell_type": "code",
   "execution_count": 55,
   "id": "0957674c",
   "metadata": {},
   "outputs": [
    {
     "name": "stdout",
     "output_type": "stream",
     "text": [
      "baseline: 0.7703668123184415, 0.6138879535370674\n",
      "EM: 0.7978347772941726, 0.6395969463804195\n"
     ]
    }
   ],
   "source": [
    "print(f'baseline: {spearmanr_stats[0]}, {kendalltau_stats[0]}')\n",
    "print(f'EM: {spearmanr_stats[-1]}, {kendalltau_stats[-1]}')"
   ]
  },
  {
   "cell_type": "markdown",
   "id": "71901c5e",
   "metadata": {},
   "source": [
    "Теперь посмотрим рейтинг лист турниров на основе сложности вопросов, используя такую же формулу, как и для игроков"
   ]
  },
  {
   "cell_type": "code",
   "execution_count": 59,
   "id": "b0ec96ae",
   "metadata": {},
   "outputs": [],
   "source": [
    "questions_complexity = baseline.questions_emb.weight.detach().cpu().numpy().flatten()"
   ]
  },
  {
   "cell_type": "code",
   "execution_count": 86,
   "id": "7be2e1cc",
   "metadata": {},
   "outputs": [],
   "source": [
    "questions_complexity_df = pd.DataFrame(\n",
    "    {\n",
    "        'question': list(question_to_tournament.keys()),\n",
    "        'complexity': questions_complexity,\n",
    "        'tournament': [question_to_tournament[question] for question in question_to_tournament]\n",
    "    }\n",
    ")\n",
    "questions_complexity_df = questions_complexity_df.merge(df_tournaments_train[['name', 'id']], how='inner', left_on='tournament', right_on='id').drop(columns='id')"
   ]
  },
  {
   "cell_type": "code",
   "execution_count": 87,
   "id": "56036fe3",
   "metadata": {},
   "outputs": [
    {
     "data": {
      "text/html": [
       "<div>\n",
       "<style scoped>\n",
       "    .dataframe tbody tr th:only-of-type {\n",
       "        vertical-align: middle;\n",
       "    }\n",
       "\n",
       "    .dataframe tbody tr th {\n",
       "        vertical-align: top;\n",
       "    }\n",
       "\n",
       "    .dataframe thead th {\n",
       "        text-align: right;\n",
       "    }\n",
       "</style>\n",
       "<table border=\"1\" class=\"dataframe\">\n",
       "  <thead>\n",
       "    <tr style=\"text-align: right;\">\n",
       "      <th></th>\n",
       "      <th>question</th>\n",
       "      <th>complexity</th>\n",
       "      <th>tournament</th>\n",
       "      <th>name</th>\n",
       "    </tr>\n",
       "  </thead>\n",
       "  <tbody>\n",
       "    <tr>\n",
       "      <th>0</th>\n",
       "      <td>0</td>\n",
       "      <td>1.707806</td>\n",
       "      <td>6144</td>\n",
       "      <td>Из Минска с любовью. Этап 3</td>\n",
       "    </tr>\n",
       "    <tr>\n",
       "      <th>1</th>\n",
       "      <td>1</td>\n",
       "      <td>3.036494</td>\n",
       "      <td>6144</td>\n",
       "      <td>Из Минска с любовью. Этап 3</td>\n",
       "    </tr>\n",
       "    <tr>\n",
       "      <th>2</th>\n",
       "      <td>2</td>\n",
       "      <td>2.225022</td>\n",
       "      <td>6144</td>\n",
       "      <td>Из Минска с любовью. Этап 3</td>\n",
       "    </tr>\n",
       "    <tr>\n",
       "      <th>3</th>\n",
       "      <td>3</td>\n",
       "      <td>1.549804</td>\n",
       "      <td>6144</td>\n",
       "      <td>Из Минска с любовью. Этап 3</td>\n",
       "    </tr>\n",
       "    <tr>\n",
       "      <th>4</th>\n",
       "      <td>4</td>\n",
       "      <td>1.895689</td>\n",
       "      <td>6144</td>\n",
       "      <td>Из Минска с любовью. Этап 3</td>\n",
       "    </tr>\n",
       "  </tbody>\n",
       "</table>\n",
       "</div>"
      ],
      "text/plain": [
       "   question  complexity  tournament                         name\n",
       "0         0    1.707806        6144  Из Минска с любовью. Этап 3\n",
       "1         1    3.036494        6144  Из Минска с любовью. Этап 3\n",
       "2         2    2.225022        6144  Из Минска с любовью. Этап 3\n",
       "3         3    1.549804        6144  Из Минска с любовью. Этап 3\n",
       "4         4    1.895689        6144  Из Минска с любовью. Этап 3"
      ]
     },
     "execution_count": 87,
     "metadata": {},
     "output_type": "execute_result"
    }
   ],
   "source": [
    "questions_complexity_df.head()"
   ]
  },
  {
   "cell_type": "code",
   "execution_count": 110,
   "id": "c8044986",
   "metadata": {},
   "outputs": [],
   "source": [
    "def calculate_complexity(df):\n",
    "    calculate_complexity = np.sum(np.exp(df.complexity))\n",
    "    \n",
    "    return calculate_complexity"
   ]
  },
  {
   "cell_type": "code",
   "execution_count": 117,
   "id": "df8a5017",
   "metadata": {},
   "outputs": [],
   "source": [
    "tournament_complixity = questions_complexity_df.groupby(['tournament', 'name']).apply(calculate_complexity).sort_values(ascending=False)"
   ]
  },
  {
   "cell_type": "code",
   "execution_count": 118,
   "id": "09c04908",
   "metadata": {},
   "outputs": [
    {
     "data": {
      "text/plain": [
       "tournament  name                                   \n",
       "6149        Чемпионат Санкт-Петербурга. Первая лига    81923.601562\n",
       "5465        Чемпионат России                           13936.476562\n",
       "5795        Кубок Москвы                               11593.333984\n",
       "6150        Чемпионат Санкт-Петербурга. Высшая лига    11423.669922\n",
       "5025        Кубок городов                               9770.329102\n",
       "5159        Первенство правого полушария                9035.180664\n",
       "6090        Дзержинский марафон                         8904.393555\n",
       "5928        Угрюмый Ёрш                                 8361.461914\n",
       "6085        Серия Гран-при. Общий зачёт                 7822.415039\n",
       "5669        Белые ночи                                  6623.321777\n",
       "dtype: float32"
      ]
     },
     "execution_count": 118,
     "metadata": {},
     "output_type": "execute_result"
    }
   ],
   "source": [
    "tournament_complixity.head(10)"
   ]
  },
  {
   "cell_type": "code",
   "execution_count": 119,
   "id": "794a0f9c",
   "metadata": {},
   "outputs": [
    {
     "data": {
      "text/plain": [
       "tournament  name                                            \n",
       "5698        (а)Синхрон-lite. Лига старта. Эпизод VII            104.083328\n",
       "6003        Второй тематический турнир имени Джоуи Триббиани    103.581291\n",
       "5876        (А) Славянка без раздаток. 4 этап                    99.503723\n",
       "5704        (а)Синхрон-lite. Лига старта. Эпизод X               98.374435\n",
       "5009        (а)Синхрон-lite. Лига старта. Эпизод III             97.977318\n",
       "5749        Чемпионат Кипра среди школьников                     88.668488\n",
       "5013        (а)Синхрон-lite. Лига старта. Эпизод V               88.071831\n",
       "6131        ДР Земцовского                                       87.483574\n",
       "5438        Синхрон Лиги Разума                                  86.229614\n",
       "6102        One ring - async                                     67.415970\n",
       "dtype: float32"
      ]
     },
     "execution_count": 119,
     "metadata": {},
     "output_type": "execute_result"
    }
   ],
   "source": [
    "tournament_complixity.tail(10)"
   ]
  },
  {
   "cell_type": "markdown",
   "id": "9ee03faa",
   "metadata": {},
   "source": [
    "Выглядит правдиво"
   ]
  },
  {
   "cell_type": "markdown",
   "id": "dfd91897",
   "metadata": {},
   "source": [
    "P.S. Жаль что нет времени на доп задания, т.к. что-то все домашки решили провести в одно время :("
   ]
  }
 ],
 "metadata": {
  "kernelspec": {
   "display_name": "Python 3 (ipykernel)",
   "language": "python",
   "name": "python3"
  },
  "language_info": {
   "codemirror_mode": {
    "name": "ipython",
    "version": 3
   },
   "file_extension": ".py",
   "mimetype": "text/x-python",
   "name": "python",
   "nbconvert_exporter": "python",
   "pygments_lexer": "ipython3",
   "version": "3.9.7"
  }
 },
 "nbformat": 4,
 "nbformat_minor": 5
}
