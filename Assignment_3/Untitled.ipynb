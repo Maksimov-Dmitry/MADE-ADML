{
 "cells": [
  {
   "cell_type": "code",
   "execution_count": 272,
   "id": "6d48e6cb",
   "metadata": {},
   "outputs": [],
   "source": [
    "from collections import defaultdict\n",
    "import random\n",
    "import re\n",
    "from math import log, exp\n",
    "import numpy as np"
   ]
  },
  {
   "cell_type": "code",
   "execution_count": 273,
   "id": "87e4d10a",
   "metadata": {},
   "outputs": [
    {
     "name": "stdout",
     "output_type": "stream",
     "text": [
      "AnnaKarenina.txt    WarAndPeace.txt     WarAndPeaceEng.txt\r\n"
     ]
    }
   ],
   "source": [
    "%ls corpora"
   ]
  },
  {
   "cell_type": "code",
   "execution_count": 274,
   "id": "1e175fc7",
   "metadata": {},
   "outputs": [],
   "source": [
    "with open('corpora/AnnaKarenina.txt') as f:\n",
    "    txt_1 = f.readlines()\n",
    "\n",
    "with open('corpora/WarAndPeace.txt') as f:\n",
    "    txt_2 = f.readlines()"
   ]
  },
  {
   "cell_type": "code",
   "execution_count": 275,
   "id": "e49e138e",
   "metadata": {},
   "outputs": [],
   "source": [
    "ALPHABET = set('абвгдеёжзийклмнопрстуфхцчшщъыьэюя ')"
   ]
  },
  {
   "cell_type": "code",
   "execution_count": 276,
   "id": "a9b48f1d",
   "metadata": {},
   "outputs": [],
   "source": [
    "TEST_SIZE = 4\n",
    "MIN_SENTENCE_TEST_LENGTH = 20"
   ]
  },
  {
   "cell_type": "code",
   "execution_count": 277,
   "id": "5ac0bb53",
   "metadata": {},
   "outputs": [],
   "source": [
    "train = []\n",
    "for line in txt_1 + txt_1:\n",
    "    train.append(''.join([char for char in line.lower() if char in ALPHABET]))\n",
    "random.shuffle(train)"
   ]
  },
  {
   "cell_type": "code",
   "execution_count": 278,
   "id": "640732ca",
   "metadata": {},
   "outputs": [],
   "source": [
    "test = []\n",
    "for i, test_sentence in enumerate(train.copy()):\n",
    "    if len(test_sentence) > MIN_SENTENCE_TEST_LENGTH:\n",
    "        test.append(test_sentence)\n",
    "        train.pop(i)\n",
    "        if len(test) == TEST_SIZE:\n",
    "            break"
   ]
  },
  {
   "cell_type": "code",
   "execution_count": 279,
   "id": "d1cc53a7",
   "metadata": {},
   "outputs": [],
   "source": [
    "test_original = test.copy()\n",
    "test_code_dict = {orig_char: encoded_char for orig_char, encoded_char in zip(ALPHABET, random.sample(list(ALPHABET), len(ALPHABET)))}\n",
    "test_coded = [''.join([test_code_dict[char] for char in sentence]) for sentence in test_original]"
   ]
  },
  {
   "cell_type": "code",
   "execution_count": 280,
   "id": "01d09392",
   "metadata": {},
   "outputs": [
    {
     "data": {
      "text/plain": [
       "['есернекхсбдтнепесххдфесубсмъчрхдлеепыудпэёеччерчпёдрпбэлеедхседцчхъеыуэрёчбсщчёъхсиезчхюэхс',\n",
       " 'еиеёсбчиепыусйэрсёсеьдрдуэщепчлцсперчкчщебепчачерердщцэхшеадьсщепщуспщъеьдрдуищексщчтеэернмсёэ',\n",
       " 'кёдшыдщучаёищъещчёчьусядтеяусхв',\n",
       " 'ехэбсбехчщеасунхиемдтсемсернепебунёъвсеыдзсёшлщчещстеёфмэечпщъедщдыушщеедщрчцсёепсмдрхэб']"
      ]
     },
     "execution_count": 280,
     "metadata": {},
     "output_type": "execute_result"
    }
   ],
   "source": [
    "test_coded"
   ]
  },
  {
   "cell_type": "code",
   "execution_count": 281,
   "id": "6a637ee3",
   "metadata": {},
   "outputs": [
    {
     "data": {
      "text/plain": [
       "[' а вы знакомы с анною аркадьевной  спросил ее весловский  она очень привлекательная женщина',\n",
       " ' я лакея спрашивала говорит сейчас везет к себе в вотчину богат страсть говорят затем и выдали',\n",
       " 'злоупотреблять телеграфом франц',\n",
       " ' никак нет барыня дома да вы с крыльца пожалуйте там люди есть отопрут  отвечал садовник']"
      ]
     },
     "execution_count": 281,
     "metadata": {},
     "output_type": "execute_result"
    }
   ],
   "source": [
    "test_original"
   ]
  },
  {
   "cell_type": "code",
   "execution_count": 282,
   "id": "8f7f13e7",
   "metadata": {},
   "outputs": [],
   "source": [
    "def accuracy(decoded_text):\n",
    "    acc = 0\n",
    "    total_length = 0\n",
    "    for original, decoded in zip(test_original, decoded_text):\n",
    "        for o_char, d_char in zip(original, decoded):\n",
    "            if o_char == d_char:\n",
    "                acc += 1\n",
    "            total_length += 1\n",
    "    return acc / total_length"
   ]
  },
  {
   "cell_type": "markdown",
   "id": "b0b1b191",
   "metadata": {},
   "source": [
    "# Базовый частотный метод"
   ]
  },
  {
   "cell_type": "code",
   "execution_count": 283,
   "id": "5d0581c1",
   "metadata": {},
   "outputs": [],
   "source": [
    "def get_frequencies(text):\n",
    "    frequencies = defaultdict(int)\n",
    "    for line in text:\n",
    "        for char in line:\n",
    "            frequencies[char] += 1\n",
    "    return frequencies"
   ]
  },
  {
   "cell_type": "code",
   "execution_count": 284,
   "id": "1f4e9c25",
   "metadata": {},
   "outputs": [],
   "source": [
    "frequencies_train = get_frequencies(train)\n",
    "frequencies_test = get_frequencies(test_coded)"
   ]
  },
  {
   "cell_type": "code",
   "execution_count": 285,
   "id": "75e3529f",
   "metadata": {},
   "outputs": [],
   "source": [
    "sorted_frequencies_train = dict(sorted(frequencies_train.items(), key=lambda x: x[1], reverse=True))\n",
    "sorted_frequencies_test = dict(sorted(frequencies_test.items(), key=lambda x: x[1], reverse=True))"
   ]
  },
  {
   "cell_type": "code",
   "execution_count": 286,
   "id": "0835a9db",
   "metadata": {},
   "outputs": [],
   "source": [
    "decode_dict = {list(sorted_frequencies_test.keys())[i]: list(sorted_frequencies_train.keys())[i]\n",
    "               for i in range(len(sorted_frequencies_test))}"
   ]
  },
  {
   "cell_type": "code",
   "execution_count": 287,
   "id": "6258ae43",
   "metadata": {},
   "outputs": [],
   "source": [
    "test_decoded = [''.join([decode_dict[char] for char in sentence]) for sentence in test_coded]"
   ]
  },
  {
   "cell_type": "code",
   "execution_count": 288,
   "id": "d8b36575",
   "metadata": {},
   "outputs": [
    {
     "name": "stdout",
     "output_type": "stream",
     "text": [
      "original:\n",
      "[' а вы знакомы с анною аркадьевной  спросил ее весловский  она очень привлекательная женщина', ' я лакея спрашивала говорит сейчас везет к себе в вотчину богат страсть говорят затем и выдали', 'злоупотреблять телеграфом франц', ' никак нет барыня дома да вы с крыльца пожалуйте там люди есть отопрут  отвечал садовник']\n"
     ]
    }
   ],
   "source": [
    "print('original:')\n",
    "print(test_original)"
   ]
  },
  {
   "cell_type": "code",
   "execution_count": 289,
   "id": "53b88a21",
   "metadata": {},
   "outputs": [
    {
     "name": "stdout",
     "output_type": "stream",
     "text": [
      "decoded:\n",
      "[' о им ытокеьм с оттей овкоудаитег  спвесрл аа иаслеискрг  ето ебатд пврилаконалдтоя шатэрто', ' я локая спвощриоло чеиеврн сагбос иаыан к саза и иенбртж зечон снвоснд чеиевян ыонаь р имуолр', 'ылежпенвазлянд налачвохеь хвотю', ' тркок тан зовмтя уеьо уо им с квмлдюо пешолжгна ноь лйур аснд енепвжн  ениабол соуеитрк']\n"
     ]
    }
   ],
   "source": [
    "print('decoded:')\n",
    "print(test_decoded)"
   ]
  },
  {
   "cell_type": "code",
   "execution_count": 290,
   "id": "ca22c309",
   "metadata": {},
   "outputs": [
    {
     "name": "stdout",
     "output_type": "stream",
     "text": [
      "char accuracy: 0.33\n"
     ]
    }
   ],
   "source": [
    "print(f'char accuracy: {accuracy(test_decoded):.2f}')"
   ]
  },
  {
   "cell_type": "markdown",
   "id": "e92d1fa8",
   "metadata": {},
   "source": [
    "# Биграммный частотный метод"
   ]
  },
  {
   "cell_type": "code",
   "execution_count": 291,
   "id": "e3874384",
   "metadata": {},
   "outputs": [],
   "source": [
    "def get_ngramm_frequencies(text, ngram):\n",
    "    frequencies = defaultdict(int)\n",
    "    for line in text:\n",
    "        for idx in range(len(line) - ngram + 1):\n",
    "            frequencies[line[idx:idx + ngram]] += 1\n",
    "    return frequencies"
   ]
  },
  {
   "cell_type": "code",
   "execution_count": 292,
   "id": "fc8b4d1b",
   "metadata": {},
   "outputs": [],
   "source": [
    "def decode_ngramm(text, decoder, ngram):\n",
    "    decoded = text.copy()\n",
    "    i = 0\n",
    "    for i in range(len(decoded)):\n",
    "        line = decoded[i]\n",
    "        for key in decoder:\n",
    "            if len(line) < ngram:\n",
    "                break\n",
    "            for match in re.finditer(key, line):\n",
    "                decoded[i] = decoded[i][:match.start()] + decoder[key] + decoded[i][match.end():]\n",
    "                line = line[:match.start()] + line[match.end():]\n",
    "    return decoded"
   ]
  },
  {
   "cell_type": "code",
   "execution_count": 293,
   "id": "35675fec",
   "metadata": {},
   "outputs": [],
   "source": [
    "frequencies_train = get_ngramm_frequencies(train, 2)\n",
    "frequencies_test = get_ngramm_frequencies(test_coded, 2)"
   ]
  },
  {
   "cell_type": "code",
   "execution_count": 294,
   "id": "e5273b49",
   "metadata": {},
   "outputs": [],
   "source": [
    "sorted_frequencies_train = dict(sorted(frequencies_train.items(), key=lambda x: x[1], reverse=True))\n",
    "sorted_frequencies_test = dict(sorted(frequencies_test.items(), key=lambda x: x[1], reverse=True))"
   ]
  },
  {
   "cell_type": "code",
   "execution_count": 295,
   "id": "e6f7158a",
   "metadata": {},
   "outputs": [],
   "source": [
    "decode_dict = {list(sorted_frequencies_test.keys())[i]: list(sorted_frequencies_train.keys())[i]\n",
    "               for i in range(len(sorted_frequencies_test))}"
   ]
  },
  {
   "cell_type": "code",
   "execution_count": 296,
   "id": "3bb93b4f",
   "metadata": {},
   "outputs": [],
   "source": [
    "test_decoded = decode_ngramm(test_coded, decode_dict, 2)"
   ]
  },
  {
   "cell_type": "code",
   "execution_count": 297,
   "id": "8ab8c39d",
   "metadata": {},
   "outputs": [
    {
     "name": "stdout",
     "output_type": "stream",
     "text": [
      "original:\n",
      "[' а вы знакомы с анною аркадьевной  спросил ее весловский  она очень привлекательная женщина', ' я лакея спрашивала говорит сейчас везет к себе в вотчину богат страсть говорят затем и выдали', 'злоупотреблять телеграфом франц', ' никак нет барыня дома да вы с крыльца пожалуйте там люди есть отопрут  отвечал садовник']\n"
     ]
    }
   ],
   "source": [
    "print('original:')\n",
    "print(test_original)"
   ]
  },
  {
   "cell_type": "code",
   "execution_count": 298,
   "id": "74bbdb93",
   "metadata": {},
   "outputs": [
    {
     "name": "stdout",
     "output_type": "stream",
     "text": [
      "decoded:\n",
      "['но кн зеср  аннотоддор м ммъчворлпр ыудп в ччточпё па эя одхседцчхъеыу нёчбсщчё нсиезчхюэхс', 'кимлл скем хсом в к ьдоруэли чеи пенлачщг де ачереи вцне оадьсщои успщъеьдрдуище сщчтеэернмсёэ', 'крушдиеуч мищ о качьусянаеяусхв', 'иложе хеав ас ваиарлом рие  ч я  е лаоеыдзсёкощчещсттофм я пщи дщды вщеедщрчцсёо смдрхэб']\n"
     ]
    }
   ],
   "source": [
    "print('decoded:')\n",
    "print(test_decoded)"
   ]
  },
  {
   "cell_type": "code",
   "execution_count": 299,
   "id": "119b518a",
   "metadata": {},
   "outputs": [
    {
     "name": "stdout",
     "output_type": "stream",
     "text": [
      "char accuracy: 0.04\n"
     ]
    }
   ],
   "source": [
    "print(f'char accuracy: {accuracy(test_decoded):.2f}')"
   ]
  },
  {
   "cell_type": "markdown",
   "id": "66af4225",
   "metadata": {},
   "source": [
    "# MCMC"
   ]
  },
  {
   "cell_type": "markdown",
   "id": "97534c97",
   "metadata": {},
   "source": [
    "Текст может быть представлен в виде марквской цепи, т.к. след. символ зависит от предыдущего.\n",
    "\n",
    "MCMC Метрополиса-Гастингса с использованием статистики биграмм будет выглядеть след. образом:\n",
    "\n",
    "1. Случайным образом меняем словарь для декодирования(будем менять 2 символа).\n",
    "2. Декодируем текст используя словарь\n",
    "3. Находим все биграммы в декодированном тексте и считаем loglikelihood найденных биграмм, используя распределение биграмм на train корпусе\n",
    "4. Если полученное правдоподобие больше, принимаем новый словарь. В противном случае, принимаем его, с вероятностью $\\exp(\\text{loglikelihood}_{\\text{new}} - \\text{loglikelihood}_{\\text{old}})$\n",
    "5. Сохраняем словарь с наибольшим показателем loglikelihood"
   ]
  },
  {
   "cell_type": "code",
   "execution_count": 340,
   "id": "c8ba55c7",
   "metadata": {},
   "outputs": [],
   "source": [
    "class MCMC:\n",
    "    def __init__(self, train, ngramms):\n",
    "        self.ngramms = ngramms\n",
    "        self._init_train_ngramms_distribution(train)\n",
    "        self.min_frequency = min(self.train_ngramms_distribution.values()) / 2\n",
    "        self.sorted_train_onegramm = [item[0] for item in sorted(get_frequencies(train).items(), key=lambda x: x[1], reverse=True)]\n",
    "\n",
    "    def fit(self, test, iterations):\n",
    "        sorted_train_onegramm = self.sorted_train_onegramm.copy()\n",
    "        sorted_test_onegramm = [item[0] for item in sorted(get_frequencies(test).items(), key=lambda x: x[1], reverse=True)]\n",
    "        self.decode_dict = self._make_decoder(sorted_train_onegramm, sorted_test_onegramm)\n",
    "        likelyhood = self._ngram_log_likelyhood(test, self.decode_dict)\n",
    "        best_likelyhood = likelyhood\n",
    "        for i in range(iterations):\n",
    "            new_sorted_train_onegramm = self._q_sampling(sorted_train_onegramm)\n",
    "            new_decode_dict = self._make_decoder(new_sorted_train_onegramm, sorted_test_onegramm)\n",
    "            new_likelyhood = self._ngram_log_likelyhood(test, new_decode_dict)\n",
    "            if self.metropolis_hastings_log_accept(likelyhood, new_likelyhood):\n",
    "                likelyhood = new_likelyhood\n",
    "                sorted_train_onegramm = new_sorted_train_onegramm\n",
    "                if new_likelyhood > best_likelyhood:\n",
    "                    best_likelyhood = new_likelyhood\n",
    "                    self.decode_dict = new_decode_dict\n",
    "        return likelyhood\n",
    "\n",
    "    def predict(self, test):\n",
    "        return [''.join([self.decode_dict[char] for char in sentence]) for sentence in test]\n",
    "\n",
    "    @staticmethod\n",
    "    def metropolis_hastings_log_accept(l, l_new):\n",
    "        if l_new > l:\n",
    "            return True\n",
    "        else:\n",
    "            return random.random() < (exp(l_new - l))\n",
    "            \n",
    "    @staticmethod\n",
    "    def _q_sampling(sorted_train_onegramm):\n",
    "        ind1, ind2 = random.sample(range(len(sorted_train_onegramm)), k=2)\n",
    "        sorted_train_onegramm_copy = sorted_train_onegramm.copy()\n",
    "        sorted_train_onegramm_copy[ind1], sorted_train_onegramm_copy[ind2] = sorted_train_onegramm_copy[ind2], sorted_train_onegramm_copy[ind1]\n",
    "        return sorted_train_onegramm_copy\n",
    "\n",
    "    def _init_train_ngramms_distribution(self, train):\n",
    "        self.train_ngramms_distribution = get_ngramm_frequencies(train, self.ngramms)\n",
    "        factor=1.0 / sum(self.train_ngramms_distribution.values())\n",
    "        for k in self.train_ngramms_distribution:\n",
    "            self.train_ngramms_distribution[k] = self.train_ngramms_distribution[k] * factor\n",
    "\n",
    "    @staticmethod\n",
    "    def _make_decoder(sorted_train_onegramm, sorted_test_onegramm):\n",
    "        return {key: val for key, val in zip(sorted_test_onegramm, sorted_train_onegramm)}\n",
    "\n",
    "    def _ngram_log_likelyhood(self, text, decoder):\n",
    "        log_likelyhood = 0\n",
    "        for line in text:\n",
    "            line_decoded = [decoder[char] for char in line]\n",
    "            for idx in range(len(line_decoded) - self.ngramms + 1):\n",
    "                log_likelyhood += log(self.train_ngramms_distribution.get(''.join(line_decoded[idx:idx + self.ngramms]), self.min_frequency))\n",
    "        return log_likelyhood"
   ]
  },
  {
   "cell_type": "code",
   "execution_count": 341,
   "id": "edb2fc80",
   "metadata": {},
   "outputs": [
    {
     "data": {
      "text/plain": [
       "-1687.1493687208983"
      ]
     },
     "execution_count": 341,
     "metadata": {},
     "output_type": "execute_result"
    }
   ],
   "source": [
    "mcmc = MCMC(train, 2)\n",
    "mcmc.fit(test_coded, 15000)"
   ]
  },
  {
   "cell_type": "code",
   "execution_count": 342,
   "id": "ca4aa61b",
   "metadata": {},
   "outputs": [],
   "source": [
    "test_decoded = mcmc.predict(test_coded)"
   ]
  },
  {
   "cell_type": "code",
   "execution_count": 343,
   "id": "12424ae9",
   "metadata": {},
   "outputs": [
    {
     "name": "stdout",
     "output_type": "stream",
     "text": [
      "original:\n",
      "[' а вы знакомы с анною аркадьевной  спросил ее весловский  она очень привлекательная женщина', ' я лакея спрашивала говорит сейчас везет к себе в вотчину богат страсть говорят затем и выдали', 'злоупотреблять телеграфом франц', ' никак нет барыня дома да вы с крыльца пожалуйте там люди есть отопрут  отвечал садовник']\n"
     ]
    }
   ],
   "source": [
    "print('original:')\n",
    "print(test_original)"
   ]
  },
  {
   "cell_type": "code",
   "execution_count": 344,
   "id": "9c059fe7",
   "metadata": {},
   "outputs": [
    {
     "name": "stdout",
     "output_type": "stream",
     "text": [
      "decoded:\n",
      "[' а вы знакомы с анною аркадьевной  спросил ее весловский  она очень привлекательная женщина', ' я лакея спрашивала говорит сейчас везет к себе в вотчину богат страсть говорят затем и выдали', 'злоупотреблять телеграхом хранц', ' никак нет барыня дома да вы с крыльца пожалуйте там люди есть отопрут  отвечал садовник']\n"
     ]
    }
   ],
   "source": [
    "print('decoded:')\n",
    "print(test_decoded)"
   ]
  },
  {
   "cell_type": "code",
   "execution_count": 345,
   "id": "3dc6eca8",
   "metadata": {},
   "outputs": [
    {
     "name": "stdout",
     "output_type": "stream",
     "text": [
      "char accuracy: 0.9934\n"
     ]
    }
   ],
   "source": [
    "print(f'char accuracy: {accuracy(test_decoded):.4f}')"
   ]
  },
  {
   "cell_type": "markdown",
   "id": "7668d3df",
   "metadata": {},
   "source": [
    "# Тестовый пример"
   ]
  },
  {
   "cell_type": "code",
   "execution_count": 367,
   "id": "61abf74a",
   "metadata": {},
   "outputs": [
    {
     "data": {
      "text/plain": [
       "['←⇠⇒↟↹↷⇊↹↷↟↤↟↨←↹↝⇛⇯↳⇴⇒⇈↝⇊↾↹↟⇒↟↹⇷⇛⇞↨↟↹↝⇛⇯↳⇴⇒⇈↝⇊↾↹↨←⇌⇠↨↹⇙↹⇸↨⇛↙⇛↹⇠⇛⇛↲⇆←↝↟↞↹⇌⇛↨⇛⇯⇊↾↹⇒←↙⇌⇛↹⇷⇯⇛⇞↟↨⇴↨⇈↹⇠⇌⇛⇯←←↹↷⇠←↙⇛↹↷⇊↹↷⇠←↹⇠↤←⇒⇴⇒↟↹⇷⇯⇴↷↟⇒⇈↝⇛↹↟↹⇷⇛⇒⇙⇞↟↨←↹↳⇴⇌⇠↟↳⇴⇒⇈↝⇊↾↹↲⇴⇒⇒↹⇰⇴↹⇷⇛⇠⇒←↤↝←←↹⇞←↨↷←⇯↨⇛←↹⇰⇴↤⇴↝↟←↹⇌⇙⇯⇠⇴↹↘⇛↨↞↹⇌⇛↝←⇞↝⇛↹↞↹↝↟⇞←↙⇛↹↝←↹⇛↲←⇆⇴⇏']"
      ]
     },
     "execution_count": 367,
     "metadata": {},
     "output_type": "execute_result"
    }
   ],
   "source": [
    "test = [\"←⇠⇒↟↹↷⇊↹↷↟↤↟↨←↹↝⇛⇯↳⇴⇒⇈↝⇊↾↹↟⇒↟↹⇷⇛⇞↨↟↹↝⇛⇯↳⇴⇒⇈↝⇊↾↹↨←⇌⇠↨↹⇙↹⇸↨⇛↙⇛↹⇠⇛⇛↲⇆←↝↟↞↹⇌⇛↨⇛⇯⇊↾↹⇒←↙⇌⇛↹⇷⇯⇛⇞↟↨⇴↨⇈↹⇠⇌⇛⇯←←↹↷⇠←↙⇛↹↷⇊↹↷⇠←↹⇠↤←⇒⇴⇒↟↹⇷⇯⇴↷↟⇒⇈↝⇛↹↟↹⇷⇛⇒⇙⇞↟↨←↹↳⇴⇌⇠↟↳⇴⇒⇈↝⇊↾↹↲⇴⇒⇒↹⇰⇴↹⇷⇛⇠⇒←↤↝←←↹⇞←↨↷←⇯↨⇛←↹⇰⇴↤⇴↝↟←↹⇌⇙⇯⇠⇴↹↘⇛↨↞↹⇌⇛↝←⇞↝⇛↹↞↹↝↟⇞←↙⇛↹↝←↹⇛↲←⇆⇴⇏\"]\n",
    "test"
   ]
  },
  {
   "cell_type": "code",
   "execution_count": 368,
   "id": "ebdeade1",
   "metadata": {},
   "outputs": [
    {
     "data": {
      "text/plain": [
       "-1240.4133698882958"
      ]
     },
     "execution_count": 368,
     "metadata": {},
     "output_type": "execute_result"
    }
   ],
   "source": [
    "mcmc.fit(test, 100000)"
   ]
  },
  {
   "cell_type": "code",
   "execution_count": 369,
   "id": "bd101488",
   "metadata": {},
   "outputs": [
    {
     "data": {
      "text/plain": [
       "['если вы вимите нордальный или почти нордальный текст у этого сообщения который легко прочитать скорее всего вы все смелали правильно и получите даксидальный балл за послемнее четвертое замание курса хотя конечно я ничего не обещаж']"
      ]
     },
     "execution_count": 369,
     "metadata": {},
     "output_type": "execute_result"
    }
   ],
   "source": [
    "mcmc.predict(test)"
   ]
  },
  {
   "cell_type": "markdown",
   "id": "7b4217d8",
   "metadata": {},
   "source": [
    "# Бонус многограммы"
   ]
  },
  {
   "cell_type": "code",
   "execution_count": 334,
   "id": "4314004e",
   "metadata": {},
   "outputs": [
    {
     "name": "stdout",
     "output_type": "stream",
     "text": [
      "n_gramm: 2\n",
      "predict\n",
      "['если вы вимите нордальный или почти нордальный текст у этого сообщения который легко прочитать скорее всего вы все смелали правильно и получите даксидальный балл за послемнее четвертое замание курса хотя конечно я ничего не обещаж']\n",
      "n_gramm: 3\n",
      "predict\n",
      "['если вы видите нормальный или почти нормальный текст у этого сообщения который легко прочитать скорее всего вы все сделали правильно и получите максимальный балл за последнее четвертое задание курса хотя конечно я ничего не обещаю']\n",
      "n_gramm: 4\n",
      "predict\n",
      "['если вы видите нормальный или почти нормальный текст у этого сообщения который легко прочитать скорее всего вы все сделали правильно и получите максимальный балл за последнее четвертое задание курса хотя конечно я ничего не обещаю']\n",
      "n_gramm: 5\n",
      "predict\n",
      "['если вы видите нормальный или почти нормальный текст у этого сообщения который легко прочитать скорее всего вы все сделали правильно и получите максимальный балл за последнее четвертое задание курса хотя конечно я ничего не обещаю']\n"
     ]
    }
   ],
   "source": [
    "n_gramms = [2, 3, 4, 5]\n",
    "attempts = 10\n",
    "for n_gramm in n_gramms:\n",
    "    likelyhood_max = -float('inf')\n",
    "    mcmc = MCMC(train, n_gramm)\n",
    "    best_decode_dict = None\n",
    "    for _ in range(attempts):\n",
    "        likelyhood = mcmc.fit(test, 20000)\n",
    "        if likelyhood > likelyhood_max:\n",
    "            best_decode_dict = mcmc.decode_dict\n",
    "            likelyhood_max = likelyhood\n",
    "    mcmc.decode_dict = best_decode_dict\n",
    "    predict = mcmc.predict(test)\n",
    "    print(f'n_gramm: {n_gramm}')\n",
    "    print('predict')\n",
    "    print(predict)"
   ]
  },
  {
   "cell_type": "markdown",
   "id": "54ed840e",
   "metadata": {},
   "source": [
    "с увеличением n_gram растет кол-во локальных максимумов и приходится много раз перезапускать алгоритм, но заметно, что n_gram=3, достаточно для идеального декодирования тестового текста"
   ]
  },
  {
   "cell_type": "markdown",
   "id": "70d6f896",
   "metadata": {},
   "source": [
    "# Бонус применение"
   ]
  },
  {
   "cell_type": "markdown",
   "id": "e6a79976",
   "metadata": {},
   "source": [
    "Скорее всего можно применять как baseline перевода, для языков о которых мы ничего не знаем(к примеру с животного на английский)"
   ]
  }
 ],
 "metadata": {
  "kernelspec": {
   "display_name": "Python 3 (ipykernel)",
   "language": "python",
   "name": "python3"
  },
  "language_info": {
   "codemirror_mode": {
    "name": "ipython",
    "version": 3
   },
   "file_extension": ".py",
   "mimetype": "text/x-python",
   "name": "python",
   "nbconvert_exporter": "python",
   "pygments_lexer": "ipython3",
   "version": "3.9.7"
  }
 },
 "nbformat": 4,
 "nbformat_minor": 5
}
